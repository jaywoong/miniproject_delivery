{
 "cells": [
  {
   "cell_type": "code",
   "execution_count": 1,
   "id": "8f0c0c53",
   "metadata": {},
   "outputs": [],
   "source": [
    "import pandas as pd\n",
    "import numpy as np\n",
    "from datetime import datetime, timedelta\n",
    "from sklearn import datasets\n",
    "from sklearn import preprocessing\n",
    "from kmodes.kprototypes import KPrototypes\n",
    "import matplotlib.pyplot as plt\n",
    "import plotly.express as px\n",
    "import pickle"
   ]
  },
  {
   "cell_type": "code",
   "execution_count": 2,
   "id": "8743ab09",
   "metadata": {},
   "outputs": [],
   "source": [
    "kp = pickle.load(open('../data/kp.pkl','rb'))"
   ]
  },
  {
   "cell_type": "code",
   "execution_count": 3,
   "id": "c95d19f3",
   "metadata": {},
   "outputs": [],
   "source": [
    "samples = pd.read_csv('../data/samples.csv', header=0, index_col=False);"
   ]
  },
  {
   "cell_type": "code",
   "execution_count": 4,
   "id": "24c8ad13",
   "metadata": {},
   "outputs": [
    {
     "data": {
      "text/html": [
       "<div>\n",
       "<style scoped>\n",
       "    .dataframe tbody tr th:only-of-type {\n",
       "        vertical-align: middle;\n",
       "    }\n",
       "\n",
       "    .dataframe tbody tr th {\n",
       "        vertical-align: top;\n",
       "    }\n",
       "\n",
       "    .dataframe thead th {\n",
       "        text-align: right;\n",
       "    }\n",
       "</style>\n",
       "<table border=\"1\" class=\"dataframe\">\n",
       "  <thead>\n",
       "    <tr style=\"text-align: right;\">\n",
       "      <th></th>\n",
       "      <th>DLVR_STORE_ADSTRD_CODE</th>\n",
       "      <th>DLVR_STORE_INDUTY_NM</th>\n",
       "      <th>DLVR_STORE_LEGALDONG_NM</th>\n",
       "      <th>월 평균 배달 매출</th>\n",
       "      <th>월 평균 주문 건수</th>\n",
       "      <th>평균 주문 금액</th>\n",
       "      <th>평균 소요 시간</th>\n",
       "    </tr>\n",
       "  </thead>\n",
       "  <tbody>\n",
       "    <tr>\n",
       "      <th>0</th>\n",
       "      <td>11560660</td>\n",
       "      <td>족발/보쌈</td>\n",
       "      <td>신길동</td>\n",
       "      <td>9326000</td>\n",
       "      <td>363</td>\n",
       "      <td>25700</td>\n",
       "      <td>980</td>\n",
       "    </tr>\n",
       "    <tr>\n",
       "      <th>1</th>\n",
       "      <td>41285520</td>\n",
       "      <td>치킨</td>\n",
       "      <td>중산동</td>\n",
       "      <td>8581100</td>\n",
       "      <td>350</td>\n",
       "      <td>24500</td>\n",
       "      <td>1340</td>\n",
       "    </tr>\n",
       "    <tr>\n",
       "      <th>2</th>\n",
       "      <td>41150510</td>\n",
       "      <td>치킨</td>\n",
       "      <td>의정부동</td>\n",
       "      <td>1435200</td>\n",
       "      <td>82</td>\n",
       "      <td>17600</td>\n",
       "      <td>930</td>\n",
       "    </tr>\n",
       "    <tr>\n",
       "      <th>3</th>\n",
       "      <td>41285590</td>\n",
       "      <td>돈까스/일식</td>\n",
       "      <td>장항동</td>\n",
       "      <td>5713300</td>\n",
       "      <td>157</td>\n",
       "      <td>36300</td>\n",
       "      <td>1430</td>\n",
       "    </tr>\n",
       "    <tr>\n",
       "      <th>4</th>\n",
       "      <td>41150580</td>\n",
       "      <td>치킨</td>\n",
       "      <td>금오동</td>\n",
       "      <td>13006200</td>\n",
       "      <td>538</td>\n",
       "      <td>24200</td>\n",
       "      <td>960</td>\n",
       "    </tr>\n",
       "    <tr>\n",
       "      <th>...</th>\n",
       "      <td>...</td>\n",
       "      <td>...</td>\n",
       "      <td>...</td>\n",
       "      <td>...</td>\n",
       "      <td>...</td>\n",
       "      <td>...</td>\n",
       "      <td>...</td>\n",
       "    </tr>\n",
       "    <tr>\n",
       "      <th>8654</th>\n",
       "      <td>41150545</td>\n",
       "      <td>분식</td>\n",
       "      <td>호원동</td>\n",
       "      <td>7800</td>\n",
       "      <td>0</td>\n",
       "      <td>23500</td>\n",
       "      <td>1860</td>\n",
       "    </tr>\n",
       "    <tr>\n",
       "      <th>8655</th>\n",
       "      <td>41150576</td>\n",
       "      <td>찜탕</td>\n",
       "      <td>민락동</td>\n",
       "      <td>31700</td>\n",
       "      <td>0</td>\n",
       "      <td>190000</td>\n",
       "      <td>3720</td>\n",
       "    </tr>\n",
       "    <tr>\n",
       "      <th>8656</th>\n",
       "      <td>41150578</td>\n",
       "      <td>카페/디저트</td>\n",
       "      <td>민락동</td>\n",
       "      <td>4200</td>\n",
       "      <td>0</td>\n",
       "      <td>25200</td>\n",
       "      <td>1620</td>\n",
       "    </tr>\n",
       "    <tr>\n",
       "      <th>8657</th>\n",
       "      <td>41250565</td>\n",
       "      <td>한식</td>\n",
       "      <td>생연동</td>\n",
       "      <td>8600</td>\n",
       "      <td>1</td>\n",
       "      <td>12900</td>\n",
       "      <td>1980</td>\n",
       "    </tr>\n",
       "    <tr>\n",
       "      <th>8658</th>\n",
       "      <td>41150510</td>\n",
       "      <td>분식</td>\n",
       "      <td>의정부동</td>\n",
       "      <td>2500</td>\n",
       "      <td>0</td>\n",
       "      <td>15000</td>\n",
       "      <td>1680</td>\n",
       "    </tr>\n",
       "  </tbody>\n",
       "</table>\n",
       "<p>8659 rows × 7 columns</p>\n",
       "</div>"
      ],
      "text/plain": [
       "      DLVR_STORE_ADSTRD_CODE DLVR_STORE_INDUTY_NM DLVR_STORE_LEGALDONG_NM  \\\n",
       "0                   11560660                족발/보쌈                     신길동   \n",
       "1                   41285520                   치킨                     중산동   \n",
       "2                   41150510                   치킨                    의정부동   \n",
       "3                   41285590               돈까스/일식                     장항동   \n",
       "4                   41150580                   치킨                     금오동   \n",
       "...                      ...                  ...                     ...   \n",
       "8654                41150545                   분식                     호원동   \n",
       "8655                41150576                   찜탕                     민락동   \n",
       "8656                41150578               카페/디저트                     민락동   \n",
       "8657                41250565                   한식                     생연동   \n",
       "8658                41150510                   분식                    의정부동   \n",
       "\n",
       "      월 평균 배달 매출  월 평균 주문 건수  평균 주문 금액  평균 소요 시간  \n",
       "0        9326000         363     25700       980  \n",
       "1        8581100         350     24500      1340  \n",
       "2        1435200          82     17600       930  \n",
       "3        5713300         157     36300      1430  \n",
       "4       13006200         538     24200       960  \n",
       "...          ...         ...       ...       ...  \n",
       "8654        7800           0     23500      1860  \n",
       "8655       31700           0    190000      3720  \n",
       "8656        4200           0     25200      1620  \n",
       "8657        8600           1     12900      1980  \n",
       "8658        2500           0     15000      1680  \n",
       "\n",
       "[8659 rows x 7 columns]"
      ]
     },
     "execution_count": 4,
     "metadata": {},
     "output_type": "execute_result"
    }
   ],
   "source": [
    "samples"
   ]
  },
  {
   "cell_type": "code",
   "execution_count": 5,
   "id": "bbbb5e89",
   "metadata": {
    "scrolled": true
   },
   "outputs": [
    {
     "data": {
      "text/plain": [
       "KPrototypes(gamma=0.5, init='Huang', max_iter=30, n_clusters=4, n_init=1,\n",
       "            verbose=True)"
      ]
     },
     "execution_count": 5,
     "metadata": {},
     "output_type": "execute_result"
    }
   ],
   "source": [
    "kp"
   ]
  },
  {
   "cell_type": "code",
   "execution_count": 6,
   "id": "e08ebdbc",
   "metadata": {},
   "outputs": [],
   "source": [
    "# 입력\n",
    "\n",
    "store = ['41390570', '야식', '산현동', 7326000 ,300, 22000, 1300]"
   ]
  },
  {
   "cell_type": "code",
   "execution_count": 7,
   "id": "16f4d0a9",
   "metadata": {},
   "outputs": [],
   "source": [
    "samples = samples.append(pd.Series(store, index=samples.columns), ignore_index=True)"
   ]
  },
  {
   "cell_type": "code",
   "execution_count": 8,
   "id": "4b8db077",
   "metadata": {},
   "outputs": [],
   "source": [
    "samples['DLVR_STORE_ADSTRD_CODE'] = samples['DLVR_STORE_ADSTRD_CODE'].astype('str')"
   ]
  },
  {
   "cell_type": "code",
   "execution_count": 9,
   "id": "16559946",
   "metadata": {},
   "outputs": [],
   "source": [
    "# 원핫인코딩(더미 변수)\n",
    "label_encoder = preprocessing.LabelEncoder()  \n",
    "onehot_encoder = preprocessing.OneHotEncoder()  \n",
    "\n",
    "onehot_hjdCode = label_encoder.fit_transform(samples['DLVR_STORE_ADSTRD_CODE'])\n",
    "onehot_induty = label_encoder.fit_transform(samples['DLVR_STORE_INDUTY_NM'])\n",
    "onehot_bjdCode = label_encoder.fit_transform(samples['DLVR_STORE_LEGALDONG_NM'])\n",
    "\n",
    "samples['DLVR_STORE_ADSTRD_CODE'] = onehot_hjdCode\n",
    "samples['DLVR_STORE_INDUTY_NM'] = onehot_induty\n",
    "samples['DLVR_STORE_LEGALDONG_NM'] = onehot_bjdCode"
   ]
  },
  {
   "cell_type": "code",
   "execution_count": 10,
   "id": "fe6395e4",
   "metadata": {
    "scrolled": true
   },
   "outputs": [],
   "source": [
    "samples = preprocessing.StandardScaler().fit(samples).transform(samples)"
   ]
  },
  {
   "cell_type": "code",
   "execution_count": 11,
   "id": "96f0a9ca",
   "metadata": {
    "scrolled": true
   },
   "outputs": [],
   "source": [
    "kp_labels = kp.predict(samples, categorical=[3])"
   ]
  },
  {
   "cell_type": "code",
   "execution_count": 12,
   "id": "bc294107",
   "metadata": {},
   "outputs": [
    {
     "data": {
      "text/plain": [
       "1"
      ]
     },
     "execution_count": 12,
     "metadata": {},
     "output_type": "execute_result"
    }
   ],
   "source": [
    "kp_labels[-1]"
   ]
  },
  {
   "cell_type": "code",
   "execution_count": null,
   "id": "1f283c07",
   "metadata": {},
   "outputs": [],
   "source": []
  }
 ],
 "metadata": {
  "kernelspec": {
   "display_name": "Python 3",
   "language": "python",
   "name": "python3"
  },
  "language_info": {
   "codemirror_mode": {
    "name": "ipython",
    "version": 3
   },
   "file_extension": ".py",
   "mimetype": "text/x-python",
   "name": "python",
   "nbconvert_exporter": "python",
   "pygments_lexer": "ipython3",
   "version": "3.9.5"
  }
 },
 "nbformat": 4,
 "nbformat_minor": 5
}
